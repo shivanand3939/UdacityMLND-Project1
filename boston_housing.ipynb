{
 "metadata": {
  "anaconda-cloud": {},
  "kernelspec": {
   "display_name": "Python [default]",
   "language": "python",
   "name": "python2"
  },
  "language_info": {
   "codemirror_mode": {
    "name": "ipython",
    "version": 2
   },
   "file_extension": ".py",
   "mimetype": "text/x-python",
   "name": "python",
   "nbconvert_exporter": "python",
   "pygments_lexer": "ipython2",
   "version": "2.7.8"
  },
  "name": "",
  "signature": "sha256:a603dbb62cdabc1296e4fbe106c0fd9a347780621023787eca790d8b63d3fbd2"
 },
 "nbformat": 3,
 "nbformat_minor": 0,
 "worksheets": [
  {
   "cells": [
    {
     "cell_type": "markdown",
     "metadata": {},
     "source": [
      "# Machine Learning Engineer Nanodegree\n",
      "## Model Evaluation & Validation\n",
      "## Project: Predicting Boston Housing Prices\n",
      "\n",
      "Welcome to the first project of the Machine Learning Engineer Nanodegree! In this notebook, some template code has already been provided for you, and you will need to implement additional functionality to successfully complete this project. You will not need to modify the included code beyond what is requested. Sections that begin with **'Implementation'** in the header indicate that the following block of code will require additional functionality which you must provide. Instructions will be provided for each section and the specifics of the implementation are marked in the code block with a 'TODO' statement. Please be sure to read the instructions carefully!\n",
      "\n",
      "In addition to implementing code, there will be questions that you must answer which relate to the project and your implementation. Each section where you will answer a question is preceded by a **'Question X'** header. Carefully read each question and provide thorough answers in the following text boxes that begin with **'Answer:'**. Your project submission will be evaluated based on your answers to each of the questions and the implementation you provide.  \n",
      "\n",
      ">**Note:** Code and Markdown cells can be executed using the **Shift + Enter** keyboard shortcut. In addition, Markdown cells can be edited by typically double-clicking the cell to enter edit mode."
     ]
    },
    {
     "cell_type": "markdown",
     "metadata": {},
     "source": [
      "## Getting Started\n",
      "In this project, you will evaluate the performance and predictive power of a model that has been trained and tested on data collected from homes in suburbs of Boston, Massachusetts. A model trained on this data that is seen as a *good fit* could then be used to make certain predictions about a home \u2014 in particular, its monetary value. This model would prove to be invaluable for someone like a real estate agent who could make use of such information on a daily basis.\n",
      "\n",
      "The dataset for this project originates from the [UCI Machine Learning Repository](https://archive.ics.uci.edu/ml/datasets/Housing). The Boston housing data was collected in 1978 and each of the 506 entries represent aggregated data about 14 features for homes from various suburbs in Boston, Massachusetts. For the purposes of this project, the following preprocessing steps have been made to the dataset:\n",
      "- 16 data points have an `'MEDV'` value of 50.0. These data points likely contain **missing or censored values** and have been removed.\n",
      "- 1 data point has an `'RM'` value of 8.78. This data point can be considered an **outlier** and has been removed.\n",
      "- The features `'RM'`, `'LSTAT'`, `'PTRATIO'`, and `'MEDV'` are essential. The remaining **non-relevant features** have been excluded.\n",
      "- The feature `'MEDV'` has been **multiplicatively scaled** to account for 35 years of market inflation.\n",
      "\n",
      "Run the code cell below to load the Boston housing dataset, along with a few of the necessary Python libraries required for this project. You will know the dataset loaded successfully if the size of the dataset is reported."
     ]
    },
    {
     "cell_type": "code",
     "collapsed": false,
     "input": [
      "# Import libraries necessary for this project\n",
      "import numpy as np\n",
      "import pandas as pd\n",
      "from sklearn.cross_validation import ShuffleSplit\n",
      "\n",
      "# Import supplementary visualizations code visuals.py\n",
      "import visuals as vs\n",
      "\n",
      "# Pretty display for notebooks\n",
      "%matplotlib inline\n",
      "\n",
      "# Load the Boston housing dataset\n",
      "data = pd.read_csv('housing.csv')\n",
      "prices = data['MEDV']\n",
      "features = data.drop('MEDV', axis = 1)\n",
      "\n",
      "# Success\n",
      "print \"Boston housing dataset has {} data points with {} variables each.\".format(*data.shape)"
     ],
     "language": "python",
     "metadata": {},
     "outputs": [
      {
       "output_type": "stream",
       "stream": "stdout",
       "text": [
        "Boston housing dataset has 489 data points with 4 variables each.\n"
       ]
      }
     ],
     "prompt_number": 1
    },
    {
     "cell_type": "markdown",
     "metadata": {},
     "source": [
      "## Data Exploration\n",
      "In this first section of this project, you will make a cursory investigation about the Boston housing data and provide your observations. Familiarizing yourself with the data through an explorative process is a fundamental practice to help you better understand and justify your results.\n",
      "\n",
      "Since the main goal of this project is to construct a working model which has the capability of predicting the value of houses, we will need to separate the dataset into **features** and the **target variable**. The **features**, `'RM'`, `'LSTAT'`, and `'PTRATIO'`, give us quantitative information about each data point. The **target variable**, `'MEDV'`, will be the variable we seek to predict. These are stored in `features` and `prices`, respectively."
     ]
    },
    {
     "cell_type": "markdown",
     "metadata": {},
     "source": [
      "### Implementation: Calculate Statistics\n",
      "For your very first coding implementation, you will calculate descriptive statistics about the Boston housing prices. Since `numpy` has already been imported for you, use this library to perform the necessary calculations. These statistics will be extremely important later on to analyze various prediction results from the constructed model.\n",
      "\n",
      "In the code cell below, you will need to implement the following:\n",
      "- Calculate the minimum, maximum, mean, median, and standard deviation of `'MEDV'`, which is stored in `prices`.\n",
      "  - Store each calculation in their respective variable."
     ]
    },
    {
     "cell_type": "code",
     "collapsed": false,
     "input": [
      "# TODO: Minimum price of the data\n",
      "minimum_price = data['MEDV'].min()\n",
      "\n",
      "# TODO: Maximum price of the data\n",
      "maximum_price = data['MEDV'].max()\n",
      "\n",
      "# TODO: Mean price of the data\n",
      "mean_price = data['MEDV'].mean()\n",
      "\n",
      "# TODO: Median price of the data\n",
      "median_price = data['MEDV'].median()\n",
      "\n",
      "# TODO: Standard deviation of prices of the data\n",
      "std_price = data['MEDV'].std()\n",
      "\n",
      "# Show the calculated statistics\n",
      "print \"Statistics for Boston housing dataset:\\n\"\n",
      "print \"Minimum price: ${:,.2f}\".format(minimum_price)\n",
      "print \"Maximum price: ${:,.2f}\".format(maximum_price)\n",
      "print \"Mean price: ${:,.2f}\".format(mean_price)\n",
      "print \"Median price ${:,.2f}\".format(median_price)\n",
      "print \"Standard deviation of prices: ${:,.2f}\".format(std_price)"
     ],
     "language": "python",
     "metadata": {},
     "outputs": [
      {
       "output_type": "stream",
       "stream": "stdout",
       "text": [
        "Statistics for Boston housing dataset:\n",
        "\n",
        "Minimum price: $105,000.00\n",
        "Maximum price: $1,024,800.00\n",
        "Mean price: $454,342.94\n",
        "Median price $438,900.00\n",
        "Standard deviation of prices: $165,340.28\n"
       ]
      }
     ],
     "prompt_number": 2
    },
    {
     "cell_type": "markdown",
     "metadata": {},
     "source": [
      "### Question 1 - Feature Observation\n",
      "As a reminder, we are using three features from the Boston housing dataset: `'RM'`, `'LSTAT'`, and `'PTRATIO'`. For each data point (neighborhood):\n",
      "- `'RM'` is the average number of rooms among homes in the neighborhood.\n",
      "- `'LSTAT'` is the percentage of homeowners in the neighborhood considered \"lower class\" (working poor).\n",
      "- `'PTRATIO'` is the ratio of students to teachers in primary and secondary schools in the neighborhood.\n",
      "\n",
      "_Using your intuition, for each of the three features above, do you think that an increase in the value of that feature would lead to an **increase** in the value of `'MEDV'` or a **decrease** in the value of `'MEDV'`? Justify your answer for each._  \n",
      "**Hint:** Would you expect a home that has an `'RM'` value of 6 be worth more or less than a home that has an `'RM'` value of 7?"
     ]
    },
    {
     "cell_type": "markdown",
     "metadata": {},
     "source": [
      "**Answer: **\n",
      "\n",
      "1) 'RM' vs 'MEDV': I expect it to be a directly proportional equation. i.e I expect the prices of homes in neighborhoud to **increase** with an **increase** in number of rooms among homes in the neighborhood. I believe it so as more number of rooms would require higher consturction cost and larger land area( yes there may be exceptions but largely more rooms imply larger surface area). To account for these factors the price of the home will be higher\n",
      "\n",
      "2) 'LSTAT' vs 'MEDV': I expect it to an inversely proportional equation i.e I expect the prices of homes in neighbourhood to **decrease** with an **increase** in the percentage of homeowners considered \"lower classs\". It is fair to say that prices of homes are representative of the people living in the neighborhood. People with higher income will have access to better/luxurious homes than people with lower income (\"working class\")\n",
      "\n",
      "3) 'PTRATIO' vs 'MEDV': I expect it to be an inversely proportional equation. i.e I expect the prices of homes in neighborhoud to **decrease** with an **increase** in the ratio of students to teachers. Lower ratio of students to teachers means that there are higher number of teachers in schools in the neighbourhood indicating that it is middle / higher class neighbourhood whereas if there are less teachers in the schools it indicates it is a lower class neghbourhood."
     ]
    },
    {
     "cell_type": "markdown",
     "metadata": {},
     "source": [
      "----\n",
      "\n",
      "## Developing a Model\n",
      "In this second section of the project, you will develop the tools and techniques necessary for a model to make a prediction. Being able to make accurate evaluations of each model's performance through the use of these tools and techniques helps to greatly reinforce the confidence in your predictions."
     ]
    },
    {
     "cell_type": "markdown",
     "metadata": {},
     "source": [
      "### Implementation: Define a Performance Metric\n",
      "It is difficult to measure the quality of a given model without quantifying its performance over training and testing. This is typically done using some type of performance metric, whether it is through calculating some type of error, the goodness of fit, or some other useful measurement. For this project, you will be calculating the [*coefficient of determination*](http://stattrek.com/statistics/dictionary.aspx?definition=coefficient_of_determination), R<sup>2</sup>, to quantify your model's performance. The coefficient of determination for a model is a useful statistic in regression analysis, as it often describes how \"good\" that model is at making predictions. \n",
      "\n",
      "The values for R<sup>2</sup> range from 0 to 1, which captures the percentage of squared correlation between the predicted and actual values of the **target variable**. A model with an R<sup>2</sup> of 0 is no better than a model that always predicts the *mean* of the target variable, whereas a model with an R<sup>2</sup> of 1 perfectly predicts the target variable. Any value between 0 and 1 indicates what percentage of the target variable, using this model, can be explained by the **features**. _A model can be given a negative R<sup>2</sup> as well, which indicates that the model is **arbitrarily worse** than one that always predicts the mean of the target variable._\n",
      "\n",
      "For the `performance_metric` function in the code cell below, you will need to implement the following:\n",
      "- Use `r2_score` from `sklearn.metrics` to perform a performance calculation between `y_true` and `y_predict`.\n",
      "- Assign the performance score to the `score` variable."
     ]
    },
    {
     "cell_type": "code",
     "collapsed": false,
     "input": [
      "# TODO: Import 'r2_score'\n",
      "from sklearn.metrics import r2_score\n",
      "def performance_metric(y_true, y_predict):\n",
      "    \"\"\" Calculates and returns the performance score between \n",
      "        true and predicted values based on the metric chosen. \"\"\"\n",
      "    \n",
      "    # TODO: Calculate the performance score between 'y_true' and 'y_predict'\n",
      "    score = r2_score(y_true, y_predict)\n",
      "    \n",
      "    # Return the score\n",
      "    return score"
     ],
     "language": "python",
     "metadata": {},
     "outputs": [],
     "prompt_number": 3
    },
    {
     "cell_type": "markdown",
     "metadata": {},
     "source": [
      "### Question 2 - Goodness of Fit\n",
      "Assume that a dataset contains five data points and a model made the following predictions for the target variable:\n",
      "\n",
      "| True Value | Prediction |\n",
      "| :-------------: | :--------: |\n",
      "| 3.0 | 2.5 |\n",
      "| -0.5 | 0.0 |\n",
      "| 2.0 | 2.1 |\n",
      "| 7.0 | 7.8 |\n",
      "| 4.2 | 5.3 |\n",
      "*Would you consider this model to have successfully captured the variation of the target variable? Why or why not?* \n",
      "\n",
      "Run the code cell below to use the `performance_metric` function and calculate this model's coefficient of determination."
     ]
    },
    {
     "cell_type": "code",
     "collapsed": false,
     "input": [
      "# Calculate the performance of this model\n",
      "score = performance_metric([3, -0.5, 2, 7, 4.2], [2.5, 0.0, 2.1, 7.8, 5.3])\n",
      "print \"Model has a coefficient of determination, R^2, of {:.3f}.\".format(score)"
     ],
     "language": "python",
     "metadata": {},
     "outputs": [
      {
       "output_type": "stream",
       "stream": "stdout",
       "text": [
        "Model has a coefficient of determination, R^2, of 0.923.\n"
       ]
      }
     ],
     "prompt_number": 4
    },
    {
     "cell_type": "markdown",
     "metadata": {},
     "source": [
      "**Answer:**\n",
      "Yes the features of this model explains 92.3% of the total variance of the target variable indiciating it is a good model. In general R2>70% is a good model"
     ]
    },
    {
     "cell_type": "markdown",
     "metadata": {},
     "source": [
      "### Implementation: Shuffle and Split Data\n",
      "Your next implementation requires that you take the Boston housing dataset and split the data into training and testing subsets. Typically, the data is also shuffled into a random order when creating the training and testing subsets to remove any bias in the ordering of the dataset.\n",
      "\n",
      "For the code cell below, you will need to implement the following:\n",
      "- Use `train_test_split` from `sklearn.cross_validation` to shuffle and split the `features` and `prices` data into training and testing sets.\n",
      "  - Split the data into 80% training and 20% testing.\n",
      "  - Set the `random_state` for `train_test_split` to a value of your choice. This ensures results are consistent.\n",
      "- Assign the train and testing splits to `X_train`, `X_test`, `y_train`, and `y_test`."
     ]
    },
    {
     "cell_type": "code",
     "collapsed": false,
     "input": [
      "# TODO: Import 'train_test_split'\n",
      "from sklearn.cross_validation import train_test_split\n",
      "\n",
      "# TODO: Shuffle and split the data into training and testing subsets\n",
      "X_train, X_test, y_train, y_test = train_test_split(features, prices, test_size=0.20, random_state=42)\n",
      "\n",
      "# Success\n",
      "print \"Training and testing split was successful.\""
     ],
     "language": "python",
     "metadata": {},
     "outputs": [
      {
       "output_type": "stream",
       "stream": "stdout",
       "text": [
        "Training and testing split was successful.\n"
       ]
      }
     ],
     "prompt_number": 5
    },
    {
     "cell_type": "markdown",
     "metadata": {},
     "source": [
      "### Question 3 - Training and Testing\n",
      "*What is the benefit to splitting a dataset into some ratio of training and testing subsets for a learning algorithm?*  \n",
      "**Hint:** What could go wrong with not having a way to test your model?"
     ]
    },
    {
     "cell_type": "markdown",
     "metadata": {},
     "source": [
      "**Answer: **\n",
      "The idea behind splitting a dataset into a ratio of training and test subsets is to evaluate how our model performs on samples which were not used in building the model. If we test our model with new samples and verify that the results are good then we can say with confidence that our model is good as these samples were not seen by the model beforehand.\n",
      "\n",
      "However, If we test our model with samples already used in training then we are wrongly lead to believe our model is good as these samples were used in training and the model knows beforehand to which class each sample belongs. \n",
      "\n",
      "Hence to remove any biases we test our model with entirely new samples which the model has not seen in training phase"
     ]
    },
    {
     "cell_type": "markdown",
     "metadata": {},
     "source": [
      "----\n",
      "\n",
      "## Analyzing Model Performance\n",
      "In this third section of the project, you'll take a look at several models' learning and testing performances on various subsets of training data. Additionally, you'll investigate one particular algorithm with an increasing `'max_depth'` parameter on the full training set to observe how model complexity affects performance. Graphing your model's performance based on varying criteria can be beneficial in the analysis process, such as visualizing behavior that may not have been apparent from the results alone."
     ]
    },
    {
     "cell_type": "markdown",
     "metadata": {},
     "source": [
      "### Learning Curves\n",
      "The following code cell produces four graphs for a decision tree model with different maximum depths. Each graph visualizes the learning curves of the model for both training and testing as the size of the training set is increased. Note that the shaded region of a learning curve denotes the uncertainty of that curve (measured as the standard deviation). The model is scored on both the training and testing sets using R<sup>2</sup>, the coefficient of determination.  \n",
      "\n",
      "Run the code cell below and use these graphs to answer the following question."
     ]
    },
    {
     "cell_type": "code",
     "collapsed": false,
     "input": [
      "# Produce learning curves for varying training set sizes and maximum depths\n",
      "vs.ModelLearning(features, prices)"
     ],
     "language": "python",
     "metadata": {
      "scrolled": false
     },
     "outputs": [
      {
       "metadata": {},
       "output_type": "display_data",
       "png": "[encoded data removed]",
       "text": [
        "<matplotlib.figure.Figure at 0x7f71b066abd0>"
       ]
      }
     ],
     "prompt_number": 6
    },
    {
     "cell_type": "markdown",
     "metadata": {},
     "source": [
      "### Question 4 - Learning the Data\n",
      "*Choose one of the graphs above and state the maximum depth for the model. What happens to the score of the training curve as more training points are added? What about the testing curve? Would having more training points benefit the model?*  \n",
      "**Hint:** Are the learning curves converging to particular scores?"
     ]
    },
    {
     "cell_type": "markdown",
     "metadata": {},
     "source": [
      "**Answer: **\n",
      "The model with max_depth = 3 is the best model of the lot as both training and testing curves converge to a score around 0.8\n",
      "We observe that as more training samples are added to the training curves score decreases slowly and after a point, here 150 samples, the scores are plateaued. \n",
      "\n",
      "In case of Testing curve as the size of training samples increase initially we see a sharp spike in the score but it plateaus after a certain point, here 150 samples. \n",
      "\n",
      "After the 2 curves converge adding more points to the training set is not going to improve the accuracy very much and increases the time to build the model.\n",
      "\n",
      "In general the purpose of learning curves is to find optimal number of training points useful to train our model. In our case it is best to use 200 or 250 training points while building the model\n"
     ]
    },
    {
     "cell_type": "markdown",
     "metadata": {},
     "source": [
      "### Complexity Curves\n",
      "The following code cell produces a graph for a decision tree model that has been trained and validated on the training data using different maximum depths. The graph produces two complexity curves \u2014 one for training and one for validation. Similar to the **learning curves**, the shaded regions of both the complexity curves denote the uncertainty in those curves, and the model is scored on both the training and validation sets using the `performance_metric` function.  \n",
      "\n",
      "Run the code cell below and use this graph to answer the following two questions."
     ]
    },
    {
     "cell_type": "code",
     "collapsed": false,
     "input": [
      "vs.ModelComplexity(X_train, y_train)"
     ],
     "language": "python",
     "metadata": {},
     "outputs": [
      {
       "metadata": {},
       "output_type": "display_data",
       "png": "[encoded data removed]",
       "text": [
        "<matplotlib.figure.Figure at 0x7f1ed020d290>"
       ]
      }
     ],
     "prompt_number": 24
    },
    {
     "cell_type": "markdown",
     "metadata": {},
     "source": [
      "### Question 5 - Bias-Variance Tradeoff\n",
      "*When the model is trained with a maximum depth of 1, does the model suffer from high bias or from high variance? How about when the model is trained with a maximum depth of 10? What visual cues in the graph justify your conclusions?*  \n",
      "**Hint:** How do you know when a model is suffering from high bias or high variance?"
     ]
    },
    {
     "cell_type": "markdown",
     "metadata": {},
     "source": [
      "**Answer: **\n",
      "\n",
      "When the model is trained with a maximum depth of 1: it suffers from High Bias. Here we observe that both training and validation scores are poor. The model is as good as the mean of prices as it does not capture the prices of the neighbourhood.\n",
      "\n",
      "When the model is trained with a maximum depth of 10: it suffers from high variance. Here we observe that model performs exrtemely well on the training set but performs poorly on the testing set. This shows that the during training the mdeol overfits the prices and when new samples are used it wrongly predicts the prices as the model did not truly capture the underlying equation but just imitated the training samples."
     ]
    },
    {
     "cell_type": "markdown",
     "metadata": {},
     "source": [
      "### Question 6 - Best-Guess Optimal Model\n",
      "*Which maximum depth do you think results in a model that best generalizes to unseen data? What intuition lead you to this answer?*"
     ]
    },
    {
     "cell_type": "markdown",
     "metadata": {},
     "source": [
      "**Answer: **\n",
      "I would choose a max-depth = 3. The model represents the data well, i.e neither underfits nor overfits, on both training and test sets.  We oberse that validaton score is highest for MaxDepth = 3 and then gradually declines. Next, the training score goes on increasing with an increase in the max_depth indiciating overfitting/ immitating the training samples.\n",
      "\n",
      "Further based on Model Learning we also observed that for max-depth=3 we get the training and test score converge. \n",
      "\n",
      "Thus for the given dataset the model with depth=3 will capture the prices of the neighbourhood well."
     ]
    },
    {
     "cell_type": "markdown",
     "metadata": {},
     "source": [
      "-----\n",
      "\n",
      "## Evaluating Model Performance\n",
      "In this final section of the project, you will construct a model and make a prediction on the client's feature set using an optimized model from `fit_model`."
     ]
    },
    {
     "cell_type": "markdown",
     "metadata": {},
     "source": [
      "### Question 7 - Grid Search\n",
      "*What is the grid search technique and how it can be applied to optimize a learning algorithm?*"
     ]
    },
    {
     "cell_type": "markdown",
     "metadata": {},
     "source": [
      "**Answer: **\n",
      "\n",
      "Any model gives us the option of customising several parameters used by the model. \n",
      "For our dataset we need to find the parameters that builds the best model.\n",
      "\n",
      "Verifying each set of parameter values and trying to find the best model of the lot is a time consuming and repetetive process. An automated process will be quite helpful to do this job. Here GridSearch comes to our rescue as it finds out the best performing model from a set of params used bythe model.\n"
     ]
    },
    {
     "cell_type": "markdown",
     "metadata": {},
     "source": [
      "### Question 8 - Cross-Validation\n",
      "*What is the k-fold cross-validation training technique? What benefit does this technique provide for grid search when optimizing a model?*  \n",
      "**Hint:** Much like the reasoning behind having a testing set, what could go wrong with using grid search without a cross-validated set?"
     ]
    },
    {
     "cell_type": "markdown",
     "metadata": {},
     "source": [
      "**Answer: **\n",
      "So K-fold cross validation technique is spliting the dataset into K bins and training our model with (K-1) data sets and testing the model with the remaining 1 bin. This process if repeated K times with each bin being only once as testing set and efficieny is calculated by taking the average of K iterations. \n",
      "\n",
      "The benefit this method provdes for gridsearch is it makes our results are more robust as, during the entire set of iterations, Every data point gets to be in a test set exactly once, and gets to be in a training set k-1 times thus the resulting variance is reduced by a factor of K and every point gets to be both a training set and a testing set.\n",
      "\n",
      "\n"
     ]
    },
    {
     "cell_type": "markdown",
     "metadata": {},
     "source": [
      "### Implementation: Fitting a Model\n",
      "Your final implementation requires that you bring everything together and train a model using the **decision tree algorithm**. To ensure that you are producing an optimized model, you will train the model using the grid search technique to optimize the `'max_depth'` parameter for the decision tree. The `'max_depth'` parameter can be thought of as how many questions the decision tree algorithm is allowed to ask about the data before making a prediction. Decision trees are part of a class of algorithms called *supervised learning algorithms*.\n",
      "\n",
      "In addition, you will find your implementation is using `ShuffleSplit()` for an alternative form of cross-validation (see the `'cv_sets'` variable). While it is not the K-Fold cross-validation technique you describe in **Question 8**, this type of cross-validation technique is just as useful!. The `ShuffleSplit()` implementation below will create 10 (`'n_splits'`) shuffled sets, and for each shuffle, 20% (`'test_size'`) of the data will be used as the *validation set*. While you're working on your implementation, think about the contrasts and similarities it has to the K-fold cross-validation technique.\n",
      "\n",
      "Please note that ShuffleSplit has different parameters in scikit-learn versions 0.17 and 0.18.\n",
      "For the `fit_model` function in the code cell below, you will need to implement the following:\n",
      "- Use [`DecisionTreeRegressor`](http://scikit-learn.org/stable/modules/generated/sklearn.tree.DecisionTreeRegressor.html) from `sklearn.tree` to create a decision tree regressor object.\n",
      "  - Assign this object to the `'regressor'` variable.\n",
      "- Create a dictionary for `'max_depth'` with the values from 1 to 10, and assign this to the `'params'` variable.\n",
      "- Use [`make_scorer`](http://scikit-learn.org/stable/modules/generated/sklearn.metrics.make_scorer.html) from `sklearn.metrics` to create a scoring function object.\n",
      "  - Pass the `performance_metric` function as a parameter to the object.\n",
      "  - Assign this scoring function to the `'scoring_fnc'` variable.\n",
      "- Use [`GridSearchCV`](http://scikit-learn.org/0.17/modules/generated/sklearn.grid_search.GridSearchCV.html) from `sklearn.grid_search` to create a grid search object.\n",
      "  - Pass the variables `'regressor'`, `'params'`, `'scoring_fnc'`, and `'cv_sets'` as parameters to the object. \n",
      "  - Assign the `GridSearchCV` object to the `'grid'` variable."
     ]
    },
    {
     "cell_type": "code",
     "collapsed": false,
     "input": [
      "# TODO: Import 'make_scorer', 'DecisionTreeRegressor', and 'GridSearchCV'\n",
      "from sklearn.tree import DecisionTreeRegressor\n",
      "from sklearn.metrics import make_scorer\n",
      "from sklearn.grid_search import GridSearchCV\n",
      "\n",
      "def fit_model(X, y):\n",
      "    \"\"\" Performs grid search over the 'max_depth' parameter for a \n",
      "        decision tree regressor trained on the input data [X, y]. \"\"\"\n",
      "    \n",
      "    # Create cross-validation sets from the training data\n",
      "    cv_sets = ShuffleSplit(X.shape[0], n_iter = 10, test_size = 0.20, random_state = 0)\n",
      "\n",
      "    # TODO: Create a decision tree regressor object\n",
      "    regressor = DecisionTreeRegressor(random_state=0)\n",
      "\n",
      "    # TODO: Create a dictionary for the parameter 'max_depth' with a range from 1 to 10\n",
      "    params = {'max_depth':arange(1,11)}\n",
      "\n",
      "    # TODO: Transform 'performance_metric' into a scoring function using 'make_scorer' \n",
      "    scoring_fnc = make_scorer(performance_metric)\n",
      "\n",
      "    # TODO: Create the grid search object\n",
      "    grid = GridSearchCV(regressor, param_grid= params, scoring=scoring_fnc, cv=cv_sets)\n",
      "\n",
      "    # Fit the grid search object to the data to compute the optimal model\n",
      "    grid = grid.fit(X, y)\n",
      "\n",
      "    # Return the optimal model after fitting the data\n",
      "    return grid.best_estimator_"
     ],
     "language": "python",
     "metadata": {},
     "outputs": [],
     "prompt_number": 1
    },
    {
     "cell_type": "markdown",
     "metadata": {},
     "source": [
      "### Making Predictions\n",
      "Once a model has been trained on a given set of data, it can now be used to make predictions on new sets of input data. In the case of a *decision tree regressor*, the model has learned *what the best questions to ask about the input data are*, and can respond with a prediction for the **target variable**. You can use these predictions to gain information about data where the value of the target variable is unknown \u2014 such as data the model was not trained on."
     ]
    },
    {
     "cell_type": "markdown",
     "metadata": {},
     "source": [
      "### Question 9 - Optimal Model\n",
      "_What maximum depth does the optimal model have? How does this result compare to your guess in **Question 6**?_  \n",
      "\n",
      "Run the code block below to fit the decision tree regressor to the training data and produce an optimal model."
     ]
    },
    {
     "cell_type": "code",
     "collapsed": false,
     "input": [
      "# Fit the training data to the model using grid search\n",
      "reg = fit_model(X_train, y_train)\n",
      "\n",
      "# Produce the value for 'max_depth'\n",
      "print \"Parameter 'max_depth' is {} for the optimal model.\".format(reg.get_params()['max_depth'])"
     ],
     "language": "python",
     "metadata": {
      "scrolled": true
     },
     "outputs": [
      {
       "output_type": "stream",
       "stream": "stdout",
       "text": [
        "Parameter 'max_depth' is 4 for the optimal model.\n"
       ]
      }
     ],
     "prompt_number": 35
    },
    {
     "cell_type": "markdown",
     "metadata": {},
     "source": [
      "**Answer: **\n",
      "The max_depth of the optimal model is 4\n",
      "I guessed max_depth = 3, well in the hindsight max_depth = 4 is a better choice as from the model complexity graph max_depth =4 has better training and testing scores.\n",
      "\n",
      "I choose max_depth = 3 because both the learning curve and the model complexity curve was best for max_depth=3. However we did not perform learning curve analysis for max_depth = 4 "
     ]
    },
    {
     "cell_type": "markdown",
     "metadata": {},
     "source": [
      "### Question 10 - Predicting Selling Prices\n",
      "Imagine that you were a real estate agent in the Boston area looking to use this model to help price homes owned by your clients that they wish to sell. You have collected the following information from three of your clients:\n",
      "\n",
      "| Feature | Client 1 | Client 2 | Client 3 |\n",
      "| :---: | :---: | :---: | :---: |\n",
      "| Total number of rooms in home | 5 rooms | 4 rooms | 8 rooms |\n",
      "| Neighborhood poverty level (as %) | 17% | 32% | 3% |\n",
      "| Student-teacher ratio of nearby schools | 15-to-1 | 22-to-1 | 12-to-1 |\n",
      "*What price would you recommend each client sell his/her home at? Do these prices seem reasonable given the values for the respective features?*  \n",
      "**Hint:** Use the statistics you calculated in the **Data Exploration** section to help justify your response.  \n",
      "\n",
      "Run the code block below to have your optimized model make predictions for each client's home."
     ]
    },
    {
     "cell_type": "code",
     "collapsed": false,
     "input": [
      "# Produce a matrix for client data\n",
      "client_data = [[5, 17, 15], # Client 1\n",
      "               [4, 32, 22], # Client 2\n",
      "               [8, 3, 12]]  # Client 3\n",
      "\n",
      "# Show predictions\n",
      "for i, price in enumerate(reg.predict(client_data)):\n",
      "    print \"Predicted selling price for Client {}'s home: ${:,.2f}\".format(i+1, price)"
     ],
     "language": "python",
     "metadata": {},
     "outputs": [
      {
       "output_type": "stream",
       "stream": "stdout",
       "text": [
        "Predicted selling price for Client 1's home: $403,025.00\n",
        "Predicted selling price for Client 2's home: $237,478.72\n",
        "Predicted selling price for Client 3's home: $931,636.36\n"
       ]
      }
     ],
     "prompt_number": 36
    },
    {
     "cell_type": "markdown",
     "metadata": {},
     "source": [
      "**Answer: **\n",
      "My price recommendations are as follows\n",
      "Predicted selling price for Client 1's home: $403,025.00\n",
      "Predicted selling price for Client 2's home: $237,478.72\n",
      "Predicted selling price for Client 3's home: $931,636.36\n",
      "\n",
      "We observe that all prices lie within the min and max prices in the dataset ( $105,000.00,  $1,024,800.00)\n",
      "\n",
      "Yes these prices are in line with the feature values. For eg: Client 3 has neighbourhood poverty level @ 3%, low student-teacher ratio and with high total number of rooms. This is indicative of a high class neighbourhood and our model's predicted price is highest for this client, in tune with the assumptions.\n",
      "\n",
      "Similarly Client2 has the highest student-teacher ratio and highest neighbourhood poverty and lesser number of rooms. Most likely it belongs to poor/working class neighbourhood. Rightly our model predicted low price for this house\n",
      "\n",
      "Finally Client 1 has moderate levels of all features and its predicted price also falls in the mean range of prices\n",
      "\n"
     ]
    },
    {
     "cell_type": "markdown",
     "metadata": {},
     "source": [
      "### Sensitivity\n",
      "An optimal model is not necessarily a robust model. Sometimes, a model is either too complex or too simple to sufficiently generalize to new data. Sometimes, a model could use a learning algorithm that is not appropriate for the structure of the data given. Other times, the data itself could be too noisy or contain too few samples to allow a model to adequately capture the target variable \u2014 i.e., the model is underfitted. Run the code cell below to run the `fit_model` function ten times with different training and testing sets to see how the prediction for a specific client changes with the data it's trained on."
     ]
    },
    {
     "cell_type": "code",
     "collapsed": false,
     "input": [
      "vs.PredictTrials(features, prices, fit_model, client_data)"
     ],
     "language": "python",
     "metadata": {},
     "outputs": [
      {
       "output_type": "stream",
       "stream": "stdout",
       "text": [
        "Trial 1: $391,183.33\n",
        "Trial 2: $424,935.00"
       ]
      },
      {
       "output_type": "stream",
       "stream": "stdout",
       "text": [
        "\n",
        "Trial 3: $415,800.00"
       ]
      },
      {
       "output_type": "stream",
       "stream": "stdout",
       "text": [
        "\n",
        "Trial 4: $420,622.22"
       ]
      },
      {
       "output_type": "stream",
       "stream": "stdout",
       "text": [
        "\n",
        "Trial 5: $418,377.27"
       ]
      },
      {
       "output_type": "stream",
       "stream": "stdout",
       "text": [
        "\n",
        "Trial 6: $411,931.58"
       ]
      },
      {
       "output_type": "stream",
       "stream": "stdout",
       "text": [
        "\n",
        "Trial 7: $399,663.16"
       ]
      },
      {
       "output_type": "stream",
       "stream": "stdout",
       "text": [
        "\n",
        "Trial 8: $407,232.00"
       ]
      },
      {
       "output_type": "stream",
       "stream": "stdout",
       "text": [
        "\n",
        "Trial 9: $351,577.61"
       ]
      },
      {
       "output_type": "stream",
       "stream": "stdout",
       "text": [
        "\n",
        "Trial 10: $413,700.00"
       ]
      },
      {
       "output_type": "stream",
       "stream": "stdout",
       "text": [
        "\n",
        "\n",
        "Range in prices: $73,357.39\n"
       ]
      }
     ],
     "prompt_number": 37
    },
    {
     "cell_type": "markdown",
     "metadata": {},
     "source": [
      "### Question 11 - Applicability\n",
      "*In a few sentences, discuss whether the constructed model should or should not be used in a real-world setting.*  \n",
      "**Hint:** Some questions to answering:\n",
      "- *How relevant today is data that was collected from 1978?*\n",
      "- *Are the features present in the data sufficient to describe a home?*\n",
      "- *Is the model robust enough to make consistent predictions?*\n",
      "- *Would data collected in an urban city like Boston be applicable in a rural city?*"
     ]
    },
    {
     "cell_type": "markdown",
     "metadata": {},
     "source": [
      "**Answer: **\n",
      "The constructed model should not be used in a real world setting.\n",
      "\n",
      "1st although the prices have been adjusted for market inflation. But real estate prices may have grown at a different rate than market inflation, without accounting for this we can not use our model for predicting prices.\n",
      "\n",
      "2nd there can be several other features affecting the prices. COnsider an apartment, even if the 3 features are same but each flat is differntly priced based on several other factors like at which floor the apartment is located, direction of the house, access to parking.\n",
      "\n",
      "3rd the variablity is also very high based on the training and testing sets chosen. A range of $73,357 shows a very high dependence on the order of data sets chosen.\n",
      "\n",
      "Finally, there are a number of other factors that determine the prices like access to basic amenities, additional offering like parks, playgrounds to name a few\n"
     ]
    },
    {
     "cell_type": "markdown",
     "metadata": {},
     "source": [
      "> **Note**: Once you have completed all of the code implementations and successfully answered each question above, you may finalize your work by exporting the iPython Notebook as an HTML document. You can do this by using the menu above and navigating to  \n",
      "**File -> Download as -> HTML (.html)**. Include the finished document along with this notebook as your submission."
     ]
    }
   ],
   "metadata": {}
  }
 ]
}